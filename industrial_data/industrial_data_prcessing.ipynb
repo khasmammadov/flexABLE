{
 "cells": [
  {
   "cell_type": "code",
   "execution_count": 3,
   "metadata": {},
   "outputs": [
    {
     "data": {
      "text/plain": [
       "<bound method NDFrame.head of      Unnamed: 0  SiteId                                        CompanyName  \\\n",
       "0             0       1  Shell Deutschland Oil GmbH Rheinland Raffineri...   \n",
       "1             1       2  Shell Deutschland Oil GmbH Rheinland Raffineri...   \n",
       "2             2       3                        RUHR OEL GMBH Werk Scholven   \n",
       "3             3       4                           Ruhr Oel GmbH Werk Horst   \n",
       "4             4       5  TOTAL Raffinerie Mitteldeutschland GmbH (Raffi...   \n",
       "..          ...     ...                                                ...   \n",
       "367         367     380                  Hüttenwerke Krupp Mannesmann GmbH   \n",
       "368         368     381                       ThyssenKrupp Steel Europe AG   \n",
       "369         369     377                     DK Recycling und Roheisen GmbH   \n",
       "370         370     382                ArcelorMittal Eisenhüttenstadt GmbH   \n",
       "371         371     383                        ArcelorMittal Duisburg GmbH   \n",
       "\n",
       "               StreetNameAndNumber PostalCode Country  ID_Eurostat  \\\n",
       "0           Godorfer Hauptstr. 150      50997      DE          9.0   \n",
       "1            Ludwigshafener Str. 1      50389      DE          9.0   \n",
       "2               Pawiker Strasse 30      45896      DE          9.0   \n",
       "3               Johannastrasse 2-8      45899      DE          9.0   \n",
       "4                       Maienweg 1       6237      DE          9.0   \n",
       "..                             ...        ...     ...          ...   \n",
       "367               Ehinger Str. 200      47259      DE          1.0   \n",
       "368  Kaiser - Wilhelm - Straße 100      47166      DE          1.0   \n",
       "369            Werthauser Str. 182      47053      DE          1.0   \n",
       "370                   Werkstraße 1      15890      DE          1.0   \n",
       "371              Dradenaustraße 33      21129      DE          1.0   \n",
       "\n",
       "     Subsector_Name   Latitude  Longitude NUTS1ID NUTS3ID  \\\n",
       "0        Refineries  50.854993   6.976846     DEA   DEA23   \n",
       "1        Refineries  50.814110   7.005756     DEA   DEA27   \n",
       "2        Refineries  51.596033   7.028909     DEA   DEA32   \n",
       "3        Refineries  51.539607   7.037203     DEA   DEA32   \n",
       "4        Refineries  51.289677  11.990582     DEE   DEE0B   \n",
       "..              ...        ...        ...     ...     ...   \n",
       "367  Steel, primary  51.368231   6.712267     DEA   DEA12   \n",
       "368  Steel, primary  51.503690   6.735907     DEA   DEA12   \n",
       "369  Steel, primary  51.422283   6.741991     DEA   DEA12   \n",
       "370  Steel, primary  52.166141  14.617682     DE4   DE40C   \n",
       "371  Steel, primary  53.524785   9.900051     DE6   DE600   \n",
       "\n",
       "     H2-Potential in TWh                                        ProcessInfo  \\\n",
       "0                 1.5837  <table class=\"tooltip-table\">\\n <tr> <th>Proce...   \n",
       "1                10.2139  <table class=\"tooltip-table\">\\n <tr> <th>Proce...   \n",
       "2                28.8769  <table class=\"tooltip-table\">\\n <tr> <th>Proce...   \n",
       "3                 1.8940  <table class=\"tooltip-table\">\\n <tr> <th>Proce...   \n",
       "4                 5.1709  <table class=\"tooltip-table\">\\n <tr> <th>Proce...   \n",
       "..                   ...                                                ...   \n",
       "367               8.5748  <table class=\"tooltip-table\">\\n <tr> <th>Proce...   \n",
       "368              19.1284  <table class=\"tooltip-table\">\\n <tr> <th>Proce...   \n",
       "369               0.4947  <table class=\"tooltip-table\">\\n <tr> <th>Proce...   \n",
       "370               4.6214  <table class=\"tooltip-table\">\\n <tr> <th>Proce...   \n",
       "371               0.8160  <table class=\"tooltip-table\">\\n <tr> <th>Proce...   \n",
       "\n",
       "                                  geometry  \n",
       "0          POINT (6.976845536 50.85499337)  \n",
       "1          POINT (7.005756279 50.81411042)  \n",
       "2          POINT (7.028908506 51.59603275)  \n",
       "3          POINT (7.037202844 51.53960695)  \n",
       "4           POINT (11.99058215 51.2896773)  \n",
       "..                                     ...  \n",
       "367        POINT (6.712267332 51.36823117)  \n",
       "368         POINT (6.735907484 51.5036903)  \n",
       "369        POINT (6.741991278 51.42228298)  \n",
       "370        POINT (14.61768224 52.16614052)  \n",
       "371  POINT (9.900051078000001 53.52478497)  \n",
       "\n",
       "[372 rows x 15 columns]>"
      ]
     },
     "execution_count": 3,
     "metadata": {},
     "output_type": "execute_result"
    }
   ],
   "source": [
    "import pandas as pd\n",
    "\n",
    "file_path = \"/Users/kanankhasmammadov/Desktop/Thesis - Electrolyzer market participation/flexABLE_w_electrolyzer/industrial_data/points.xlsx\"\n",
    "industrial_data = pd.read_excel(file_path)\n",
    "industrial_data.head\n"
   ]
  },
  {
   "cell_type": "code",
   "execution_count": 8,
   "metadata": {},
   "outputs": [
    {
     "name": "stderr",
     "output_type": "stream",
     "text": [
      "/var/folders/cy/c63n2yr50tjfk_jlnh8zdsbh0000gn/T/ipykernel_7048/247033588.py:5: MarkupResemblesLocatorWarning: The input looks more like a filename than markup. You may want to open this file and pass the filehandle into Beautiful Soup.\n",
      "  industrial_data['ProcessInfo'] = industrial_data['ProcessInfo'].apply(lambda x: BeautifulSoup(x, 'html.parser').get_text())\n"
     ]
    },
    {
     "ename": "ValueError",
     "evalue": "Length mismatch: Expected axis has 30 elements, new values have 4 elements",
     "output_type": "error",
     "traceback": [
      "\u001b[0;31m---------------------------------------------------------------------------\u001b[0m",
      "\u001b[0;31mValueError\u001b[0m                                Traceback (most recent call last)",
      "Cell \u001b[0;32mIn[8], line 14\u001b[0m\n\u001b[1;32m     11\u001b[0m industrial_data \u001b[38;5;241m=\u001b[39m pd\u001b[38;5;241m.\u001b[39mconcat([industrial_data, split_columns], axis\u001b[38;5;241m=\u001b[39m\u001b[38;5;241m1\u001b[39m)\n\u001b[1;32m     13\u001b[0m \u001b[38;5;66;03m# Rename the columns for clarity\u001b[39;00m\n\u001b[0;32m---> 14\u001b[0m industrial_data\u001b[38;5;241m.\u001b[39mcolumns \u001b[38;5;241m=\u001b[39m [\u001b[38;5;124m'\u001b[39m\u001b[38;5;124mOriginalColumn\u001b[39m\u001b[38;5;124m'\u001b[39m, \u001b[38;5;124m'\u001b[39m\u001b[38;5;124mProcess\u001b[39m\u001b[38;5;124m'\u001b[39m, \u001b[38;5;124m'\u001b[39m\u001b[38;5;124mSEC [GJ/t]\u001b[39m\u001b[38;5;124m'\u001b[39m, \u001b[38;5;124m'\u001b[39m\u001b[38;5;124mH2-Potential [TWh]\u001b[39m\u001b[38;5;124m'\u001b[39m]\n\u001b[1;32m     16\u001b[0m \u001b[38;5;66;03m# Drop the 'OriginalColumn' if it's no longer needed\u001b[39;00m\n\u001b[1;32m     17\u001b[0m industrial_data \u001b[38;5;241m=\u001b[39m industrial_data\u001b[38;5;241m.\u001b[39mdrop(\u001b[38;5;124m'\u001b[39m\u001b[38;5;124mOriginalColumn\u001b[39m\u001b[38;5;124m'\u001b[39m, axis\u001b[38;5;241m=\u001b[39m\u001b[38;5;241m1\u001b[39m, errors\u001b[38;5;241m=\u001b[39m\u001b[38;5;124m'\u001b[39m\u001b[38;5;124mignore\u001b[39m\u001b[38;5;124m'\u001b[39m)\n",
      "File \u001b[0;32m~/anaconda3/lib/python3.11/site-packages/pandas/core/generic.py:6002\u001b[0m, in \u001b[0;36mNDFrame.__setattr__\u001b[0;34m(self, name, value)\u001b[0m\n\u001b[1;32m   6000\u001b[0m \u001b[38;5;28;01mtry\u001b[39;00m:\n\u001b[1;32m   6001\u001b[0m     \u001b[38;5;28mobject\u001b[39m\u001b[38;5;241m.\u001b[39m\u001b[38;5;21m__getattribute__\u001b[39m(\u001b[38;5;28mself\u001b[39m, name)\n\u001b[0;32m-> 6002\u001b[0m     \u001b[38;5;28;01mreturn\u001b[39;00m \u001b[38;5;28mobject\u001b[39m\u001b[38;5;241m.\u001b[39m\u001b[38;5;21m__setattr__\u001b[39m(\u001b[38;5;28mself\u001b[39m, name, value)\n\u001b[1;32m   6003\u001b[0m \u001b[38;5;28;01mexcept\u001b[39;00m \u001b[38;5;167;01mAttributeError\u001b[39;00m:\n\u001b[1;32m   6004\u001b[0m     \u001b[38;5;28;01mpass\u001b[39;00m\n",
      "File \u001b[0;32m~/anaconda3/lib/python3.11/site-packages/pandas/_libs/properties.pyx:69\u001b[0m, in \u001b[0;36mpandas._libs.properties.AxisProperty.__set__\u001b[0;34m()\u001b[0m\n",
      "File \u001b[0;32m~/anaconda3/lib/python3.11/site-packages/pandas/core/generic.py:730\u001b[0m, in \u001b[0;36mNDFrame._set_axis\u001b[0;34m(self, axis, labels)\u001b[0m\n\u001b[1;32m    725\u001b[0m \u001b[38;5;250m\u001b[39m\u001b[38;5;124;03m\"\"\"\u001b[39;00m\n\u001b[1;32m    726\u001b[0m \u001b[38;5;124;03mThis is called from the cython code when we set the `index` attribute\u001b[39;00m\n\u001b[1;32m    727\u001b[0m \u001b[38;5;124;03mdirectly, e.g. `series.index = [1, 2, 3]`.\u001b[39;00m\n\u001b[1;32m    728\u001b[0m \u001b[38;5;124;03m\"\"\"\u001b[39;00m\n\u001b[1;32m    729\u001b[0m labels \u001b[38;5;241m=\u001b[39m ensure_index(labels)\n\u001b[0;32m--> 730\u001b[0m \u001b[38;5;28mself\u001b[39m\u001b[38;5;241m.\u001b[39m_mgr\u001b[38;5;241m.\u001b[39mset_axis(axis, labels)\n\u001b[1;32m    731\u001b[0m \u001b[38;5;28mself\u001b[39m\u001b[38;5;241m.\u001b[39m_clear_item_cache()\n",
      "File \u001b[0;32m~/anaconda3/lib/python3.11/site-packages/pandas/core/internals/managers.py:225\u001b[0m, in \u001b[0;36mBaseBlockManager.set_axis\u001b[0;34m(self, axis, new_labels)\u001b[0m\n\u001b[1;32m    223\u001b[0m \u001b[38;5;28;01mdef\u001b[39;00m \u001b[38;5;21mset_axis\u001b[39m(\u001b[38;5;28mself\u001b[39m, axis: AxisInt, new_labels: Index) \u001b[38;5;241m-\u001b[39m\u001b[38;5;241m>\u001b[39m \u001b[38;5;28;01mNone\u001b[39;00m:\n\u001b[1;32m    224\u001b[0m     \u001b[38;5;66;03m# Caller is responsible for ensuring we have an Index object.\u001b[39;00m\n\u001b[0;32m--> 225\u001b[0m     \u001b[38;5;28mself\u001b[39m\u001b[38;5;241m.\u001b[39m_validate_set_axis(axis, new_labels)\n\u001b[1;32m    226\u001b[0m     \u001b[38;5;28mself\u001b[39m\u001b[38;5;241m.\u001b[39maxes[axis] \u001b[38;5;241m=\u001b[39m new_labels\n",
      "File \u001b[0;32m~/anaconda3/lib/python3.11/site-packages/pandas/core/internals/base.py:70\u001b[0m, in \u001b[0;36mDataManager._validate_set_axis\u001b[0;34m(self, axis, new_labels)\u001b[0m\n\u001b[1;32m     67\u001b[0m     \u001b[38;5;28;01mpass\u001b[39;00m\n\u001b[1;32m     69\u001b[0m \u001b[38;5;28;01melif\u001b[39;00m new_len \u001b[38;5;241m!=\u001b[39m old_len:\n\u001b[0;32m---> 70\u001b[0m     \u001b[38;5;28;01mraise\u001b[39;00m \u001b[38;5;167;01mValueError\u001b[39;00m(\n\u001b[1;32m     71\u001b[0m         \u001b[38;5;124mf\u001b[39m\u001b[38;5;124m\"\u001b[39m\u001b[38;5;124mLength mismatch: Expected axis has \u001b[39m\u001b[38;5;132;01m{\u001b[39;00mold_len\u001b[38;5;132;01m}\u001b[39;00m\u001b[38;5;124m elements, new \u001b[39m\u001b[38;5;124m\"\u001b[39m\n\u001b[1;32m     72\u001b[0m         \u001b[38;5;124mf\u001b[39m\u001b[38;5;124m\"\u001b[39m\u001b[38;5;124mvalues have \u001b[39m\u001b[38;5;132;01m{\u001b[39;00mnew_len\u001b[38;5;132;01m}\u001b[39;00m\u001b[38;5;124m elements\u001b[39m\u001b[38;5;124m\"\u001b[39m\n\u001b[1;32m     73\u001b[0m     )\n",
      "\u001b[0;31mValueError\u001b[0m: Length mismatch: Expected axis has 30 elements, new values have 4 elements"
     ]
    }
   ],
   "source": [
    "from bs4 import BeautifulSoup\n",
    "import pandas as pd\n",
    "\n",
    "# Extract variables from HTML table in each cell of the \"ProcessInfo\" column\n",
    "industrial_data['ProcessInfo'] = industrial_data['ProcessInfo'].apply(lambda x: BeautifulSoup(x, 'html.parser').get_text())\n",
    "\n",
    "# Split the 'ProcessInfo' column into separate columns\n",
    "split_columns = industrial_data['ProcessInfo'].str.split('\\n', expand=True)\n",
    "\n",
    "# Concatenate the split columns to the original DataFrame, handling missing data with NaN\n",
    "industrial_data = pd.concat([industrial_data, split_columns], axis=1)\n",
    "\n",
    "# Rename the columns for clarity\n",
    "industrial_data.columns = ['OriginalColumn', 'Process', 'SEC [GJ/t]', 'H2-Potential [TWh]']\n",
    "\n",
    "# Drop the 'OriginalColumn' if it's no longer needed\n",
    "industrial_data = industrial_data.drop('OriginalColumn', axis=1, errors='ignore')\n",
    "\n"
   ]
  }
 ],
 "metadata": {
  "kernelspec": {
   "display_name": "base",
   "language": "python",
   "name": "python3"
  },
  "language_info": {
   "codemirror_mode": {
    "name": "ipython",
    "version": 3
   },
   "file_extension": ".py",
   "mimetype": "text/x-python",
   "name": "python",
   "nbconvert_exporter": "python",
   "pygments_lexer": "ipython3",
   "version": "3.11.5"
  }
 },
 "nbformat": 4,
 "nbformat_minor": 2
}

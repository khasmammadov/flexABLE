{
 "cells": [
  {
   "cell_type": "code",
   "execution_count": 13,
   "metadata": {},
   "outputs": [
    {
     "name": "stdout",
     "output_type": "stream",
     "text": [
      "     name technology  minPower  installedCapacity  effElec  minDowntime  \\\n",
      "0  Elec_x        PEM        10                500      0.7          2.0   \n",
      "1  Elec_y        AEL        10                100      0.7          0.5   \n",
      "2  Elec_z       SOEL        10                500      0.7          0.5   \n",
      "\n",
      "   minRuntime  hotStartupCons  coldStartUpCons  maxAllowedColdStartups  \\\n",
      "0           2             2.5               10                    3000   \n",
      "1           2             0.5                2                    2000   \n",
      "2           4             2.5               10                    4000   \n",
      "\n",
      "   standbyCons  compEff  compPressIn  compPressOut  compTempIn  comprCons  \\\n",
      "0            5     0.75           30           300          40     0.0012   \n",
      "1            1     0.75           30           300          40     0.0012   \n",
      "2            2     0.75           30           300          40     0.0012   \n",
      "\n",
      "   maxSOC  maxStorageOutput   company  \n",
      "0   10000               800  Refining  \n",
      "1    2000               800     Steel  \n",
      "2   15000               800  Ammonium  \n"
     ]
    }
   ],
   "source": [
    "import pandas as pd\n",
    "electrolyzers_df = pd.read_csv('/Users/kanankhasmammadov/Desktop/Thesis - Electrolyzer market participation/flexABLE_w_electrolyzer/input/2016/electrolyzers.csv')\n",
    "print(electrolyzers_df.head())\n",
    "\n",
    "# Read the CSV files and save them to DataFrames\n",
    "Elec_x_df = pd.read_csv('/Users/kanankhasmammadov/Desktop/Thesis - Electrolyzer market participation/flexABLE_w_electrolyzer/output/2016/Elec_capacities/Elec_x_optimizedBidAmount.csv')\n",
    "Elec_y_df = pd.read_csv('/Users/kanankhasmammadov/Desktop/Thesis - Electrolyzer market participation/flexABLE_w_electrolyzer/output/2016/Elec_capacities/Elec_y_optimizedBidAmount.csv')"
   ]
  },
  {
   "cell_type": "code",
   "execution_count": 10,
   "metadata": {},
   "outputs": [
    {
     "name": "stdout",
     "output_type": "stream",
     "text": [
      "isRunning        349.75\n",
      "isStandBy          0.00\n",
      "isIdle            10.25\n",
      "isHotStarted       0.00\n",
      "isColdStarted      0.50\n",
      "dtype: float64\n",
      "Elec_x operational stats None\n",
      "isRunning        298.25\n",
      "isStandBy          0.00\n",
      "isIdle            61.75\n",
      "isHotStarted       0.00\n",
      "isColdStarted      5.00\n",
      "dtype: float64\n",
      "Elec_y operational stats None\n"
     ]
    }
   ],
   "source": [
    "def calculate_sums(df):\n",
    "    # Calculate operational sums\n",
    "    sums = df[['isRunning', 'isStandBy', 'isIdle', 'isHotStarted', 'isColdStarted']].sum()/4\n",
    "    # Print the results\n",
    "    print(sums)\n",
    "\n",
    "print('Elec_x operational hours', calculate_sums(Elec_x_df))\n",
    "print('Elec_y operational hours', calculate_sums(Elec_y_df))\n",
    "\n"
   ]
  }
 ],
 "metadata": {
  "kernelspec": {
   "display_name": "base",
   "language": "python",
   "name": "python3"
  },
  "language_info": {
   "codemirror_mode": {
    "name": "ipython",
    "version": 3
   },
   "file_extension": ".py",
   "mimetype": "text/x-python",
   "name": "python",
   "nbconvert_exporter": "python",
   "pygments_lexer": "ipython3",
   "version": "3.11.7"
  }
 },
 "nbformat": 4,
 "nbformat_minor": 2
}

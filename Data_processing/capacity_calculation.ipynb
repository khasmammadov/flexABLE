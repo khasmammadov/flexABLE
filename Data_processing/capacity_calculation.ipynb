{
 "cells": [
  {
   "cell_type": "code",
   "execution_count": 20,
   "metadata": {},
   "outputs": [
    {
     "name": "stdout",
     "output_type": "stream",
     "text": [
      "   tick  Elec_x  Metal           Timestamp\n",
      "0     0   180.2    0.0 2016-01-01 00:00:00\n",
      "1     1   179.1    0.0 2016-01-01 00:15:00\n",
      "2     2   178.0    0.0 2016-01-01 00:30:00\n",
      "3     3     0.0    0.0 2016-01-01 00:45:00\n",
      "4     4     0.0    0.0 2016-01-01 01:00:00\n"
     ]
    },
    {
     "data": {
      "text/html": [
       "<div>\n",
       "<style scoped>\n",
       "    .dataframe tbody tr th:only-of-type {\n",
       "        vertical-align: middle;\n",
       "    }\n",
       "\n",
       "    .dataframe tbody tr th {\n",
       "        vertical-align: top;\n",
       "    }\n",
       "\n",
       "    .dataframe thead th {\n",
       "        text-align: right;\n",
       "    }\n",
       "</style>\n",
       "<table border=\"1\" class=\"dataframe\">\n",
       "  <thead>\n",
       "    <tr style=\"text-align: right;\">\n",
       "      <th></th>\n",
       "      <th>name</th>\n",
       "      <th>technology</th>\n",
       "      <th>minLoad</th>\n",
       "      <th>installedCapacity</th>\n",
       "      <th>effElec</th>\n",
       "      <th>minDowntime</th>\n",
       "      <th>minRuntime</th>\n",
       "      <th>coldStartUpCost</th>\n",
       "      <th>maxAllowedColdStartups</th>\n",
       "      <th>standbyCons</th>\n",
       "      <th>comprCons</th>\n",
       "      <th>maxSOC</th>\n",
       "      <th>company</th>\n",
       "    </tr>\n",
       "  </thead>\n",
       "  <tbody>\n",
       "    <tr>\n",
       "      <th>0</th>\n",
       "      <td>Elec_x</td>\n",
       "      <td>PEM</td>\n",
       "      <td>0.05</td>\n",
       "      <td>60</td>\n",
       "      <td>0.7</td>\n",
       "      <td>0.5</td>\n",
       "      <td>1</td>\n",
       "      <td>50</td>\n",
       "      <td>3000</td>\n",
       "      <td>0.0005</td>\n",
       "      <td>0.0012</td>\n",
       "      <td>22700</td>\n",
       "      <td>Refining</td>\n",
       "    </tr>\n",
       "    <tr>\n",
       "      <th>1</th>\n",
       "      <td>Metal</td>\n",
       "      <td>PEM</td>\n",
       "      <td>0.05</td>\n",
       "      <td>190</td>\n",
       "      <td>0.7</td>\n",
       "      <td>0.5</td>\n",
       "      <td>1</td>\n",
       "      <td>50</td>\n",
       "      <td>4000</td>\n",
       "      <td>0.0020</td>\n",
       "      <td>0.0012</td>\n",
       "      <td>5700</td>\n",
       "      <td>Metallurgy</td>\n",
       "    </tr>\n",
       "  </tbody>\n",
       "</table>\n",
       "</div>"
      ],
      "text/plain": [
       "     name technology  minLoad  installedCapacity  effElec  minDowntime  \\\n",
       "0  Elec_x        PEM     0.05                 60      0.7          0.5   \n",
       "1   Metal        PEM     0.05                190      0.7          0.5   \n",
       "\n",
       "   minRuntime  coldStartUpCost  maxAllowedColdStartups  standbyCons  \\\n",
       "0           1               50                    3000       0.0005   \n",
       "1           1               50                    4000       0.0020   \n",
       "\n",
       "   comprCons  maxSOC     company  \n",
       "0     0.0012   22700    Refining  \n",
       "1     0.0012    5700  Metallurgy  "
      ]
     },
     "execution_count": 20,
     "metadata": {},
     "output_type": "execute_result"
    }
   ],
   "source": [
    "import pandas as pd\n",
    "#data input\n",
    "industrialDemandH2 = pd.read_csv('/Users/kanankhasmammadov/Desktop/Thesis - Electrolyzer market participation/flexABLE_w_electrolyzer/input/2016/industrial_demand.csv')\n",
    "electrolyzers = pd.read_csv('/Users/kanankhasmammadov/Desktop/Thesis - Electrolyzer market participation/flexABLE_w_electrolyzer/input/2016/electrolyzers.csv')\n",
    "industrialDemandH2['Timestamp'] = pd.date_range(start=f'1/1/2016', end=f'12/31/2016 23:45', freq='15T')            \n",
    "\n",
    "print(industrialDemandH2.head())\n",
    "electrolyzers.head()"
   ]
  },
  {
   "cell_type": "markdown",
   "metadata": {},
   "source": [
    "### Electrolyzer capacity calculation\n",
    "\n",
    "The electrolyzer capacity should be able to produce hydrogen at each step without having need for storage. Therefore the maximum hydrogen demand value is extracted on study year and respective electrolyzer power is calculated for it. Since data frequency is 15 minute, that should also be considered in calculation."
   ]
  },
  {
   "cell_type": "code",
   "execution_count": 21,
   "metadata": {},
   "outputs": [
    {
     "name": "stdout",
     "output_type": "stream",
     "text": [
      "329.8 Elec_x_maxDemand\n",
      "999.4263172 Metal_maxDemand\n",
      "60.0 Elec_x_Capacity\n",
      "190.0 Metal_Capacity\n"
     ]
    }
   ],
   "source": [
    "energyContentH2_LHV = 0.03333 #MWh/kg or lower heating value of H2\n",
    "efficiency = electrolyzers['effElec']\n",
    "# Calculate electrolyzer capacity\n",
    "Elec_x_maxDemand = max(industrialDemandH2['Elec_x'])\n",
    "Metal_maxDemand = max(industrialDemandH2['Metal'])\n",
    "print(Elec_x_maxDemand, 'Elec_x_maxDemand')\n",
    "print(Metal_maxDemand, 'Metal_maxDemand')\n",
    "\n",
    "Elec_x_Capacity = round((Elec_x_maxDemand * energyContentH2_LHV / efficiency[0]/ 0.25), -1)\n",
    "Metal_Capacity = round((Metal_maxDemand * energyContentH2_LHV / efficiency[1] / 0.25), -1)\n",
    "\n",
    "print(Elec_x_Capacity, 'Elec_x_Capacity')\n",
    "print(Metal_Capacity, 'Metal_Capacity')"
   ]
  },
  {
   "cell_type": "markdown",
   "metadata": {},
   "source": [
    "### Storage capacity calculation\n",
    "Storage capacity is calculated based on assumption of having 1 day of enough hydrogen storage to proceed with operations."
   ]
  },
  {
   "cell_type": "code",
   "execution_count": 18,
   "metadata": {},
   "outputs": [
    {
     "name": "stdout",
     "output_type": "stream",
     "text": [
      "22700.0 storageCap_Elec_x\n",
      "5700.0 storageCap_Metal\n"
     ]
    }
   ],
   "source": [
    "from statistics import mean\n",
    "# Calculate the maxSOC for H2 storage\n",
    "demandSum_Elec_x = [] #weekly or daily demand sum\n",
    "demandSum_Metal = [] #weekly or daily demand sum\n",
    "\n",
    "industrialDemandH2['Date'] = industrialDemandH2['Timestamp'].dt.date\n",
    "unique_days = industrialDemandH2['Date'].unique()\n",
    "for day in unique_days:\n",
    "    dailyIntervalDemand = industrialDemandH2[industrialDemandH2['Date'] == day]\n",
    "    daily_sum_Elec_x = sum(dailyIntervalDemand['Elec_x'])\n",
    "    daily_sum_Metal = sum(dailyIntervalDemand['Metal'])\n",
    "    \n",
    "    demandSum_Elec_x.append(daily_sum_Elec_x) \n",
    "    demandSum_Metal.append(daily_sum_Metal)        \n",
    "\n",
    "storageCap_Elec_x = round(mean(demandSum_Elec_x), -2)\n",
    "storageCap_Metal = round(mean(demandSum_Metal), -2)\n",
    "\n",
    "print(storageCap_Elec_x, 'storageCap_Elec_x')\n",
    "print(storageCap_Metal, 'storageCap_Metal')\n"
   ]
  }
 ],
 "metadata": {
  "kernelspec": {
   "display_name": "base",
   "language": "python",
   "name": "python3"
  },
  "language_info": {
   "codemirror_mode": {
    "name": "ipython",
    "version": 3
   },
   "file_extension": ".py",
   "mimetype": "text/x-python",
   "name": "python",
   "nbconvert_exporter": "python",
   "pygments_lexer": "ipython3",
   "version": "3.11.5"
  }
 },
 "nbformat": 4,
 "nbformat_minor": 2
}

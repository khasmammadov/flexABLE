{
 "cells": [
  {
   "cell_type": "markdown",
   "metadata": {},
   "source": [
    "# Levelized Costs of Hydrogen\n",
    "The LCoE is often used to compare different energy–generating technologies [70], [86], [111], [122]. This approach is applied by this master thesis to compute the LCoH2 issued by the PtH2 unit. The LCoH2 are calculated by equation 2.11 which includes the annual Capital Expenditures (CapEx), the annual Operating Expenditures (OpEx) and the annual amount of hydrogen produced mH2,a. The CapEx are considered according to the annuity method based on the norm DIN 2067 issued by the “Verein Deutsche Ingenieure” [142].\n",
    "\n",
    "$LCoH_2 = \\frac{CapEx_a + OpEx_a}{m_{H_2,a}}$\n",
    "\\begin{align*}\n",
    "CapEx_a & : \\text{Annual Capital Expenditures} \\\\\n",
    "OpEx_a & : \\text{Annual Operating Expenditures} \\\\\n",
    "m_{H_2,a} & : \\text{Annual mass of produced hydrogen}\n",
    "\\end{align*}\n"
   ]
  },
  {
   "cell_type": "code",
   "execution_count": 1,
   "metadata": {},
   "outputs": [
    {
     "data": {
      "text/html": [
       "<div>\n",
       "<style scoped>\n",
       "    .dataframe tbody tr th:only-of-type {\n",
       "        vertical-align: middle;\n",
       "    }\n",
       "\n",
       "    .dataframe tbody tr th {\n",
       "        vertical-align: top;\n",
       "    }\n",
       "\n",
       "    .dataframe thead th {\n",
       "        text-align: right;\n",
       "    }\n",
       "</style>\n",
       "<table border=\"1\" class=\"dataframe\">\n",
       "  <thead>\n",
       "    <tr style=\"text-align: right;\">\n",
       "      <th></th>\n",
       "      <th>name</th>\n",
       "      <th>technology</th>\n",
       "      <th>minLoad</th>\n",
       "      <th>maxLoad</th>\n",
       "      <th>installedCapacity</th>\n",
       "      <th>effElec</th>\n",
       "      <th>minDowntime</th>\n",
       "      <th>coldStartUpCost</th>\n",
       "      <th>maxAllowedColdStartups</th>\n",
       "      <th>standbyCons</th>\n",
       "      <th>comprCons</th>\n",
       "      <th>maxSOC</th>\n",
       "      <th>company</th>\n",
       "    </tr>\n",
       "  </thead>\n",
       "  <tbody>\n",
       "    <tr>\n",
       "      <th>0</th>\n",
       "      <td>Iron_steel</td>\n",
       "      <td>PEM</td>\n",
       "      <td>0.05</td>\n",
       "      <td>1.2</td>\n",
       "      <td>11850</td>\n",
       "      <td>0.63</td>\n",
       "      <td>0.5</td>\n",
       "      <td>50</td>\n",
       "      <td>3000</td>\n",
       "      <td>0.0005</td>\n",
       "      <td>0.0012</td>\n",
       "      <td>200000</td>\n",
       "      <td>Iron_steel</td>\n",
       "    </tr>\n",
       "  </tbody>\n",
       "</table>\n",
       "</div>"
      ],
      "text/plain": [
       "         name technology  minLoad  maxLoad  installedCapacity  effElec  \\\n",
       "0  Iron_steel        PEM     0.05      1.2              11850     0.63   \n",
       "\n",
       "   minDowntime  coldStartUpCost  maxAllowedColdStartups  standbyCons  \\\n",
       "0          0.5               50                    3000       0.0005   \n",
       "\n",
       "   comprCons  maxSOC     company  \n",
       "0     0.0012  200000  Iron_steel  "
      ]
     },
     "metadata": {},
     "output_type": "display_data"
    },
    {
     "data": {
      "text/html": [
       "<div>\n",
       "<style scoped>\n",
       "    .dataframe tbody tr th:only-of-type {\n",
       "        vertical-align: middle;\n",
       "    }\n",
       "\n",
       "    .dataframe tbody tr th {\n",
       "        vertical-align: top;\n",
       "    }\n",
       "\n",
       "    .dataframe thead th {\n",
       "        text-align: right;\n",
       "    }\n",
       "</style>\n",
       "<table border=\"1\" class=\"dataframe\">\n",
       "  <thead>\n",
       "    <tr style=\"text-align: right;\">\n",
       "      <th></th>\n",
       "      <th>technology</th>\n",
       "      <th>CAPEX</th>\n",
       "      <th>stack_replacement</th>\n",
       "      <th>maintanence_cost</th>\n",
       "      <th>discount_rate</th>\n",
       "      <th>lifetime</th>\n",
       "      <th>stack_lifetime</th>\n",
       "      <th>scaling_factor</th>\n",
       "    </tr>\n",
       "  </thead>\n",
       "  <tbody>\n",
       "    <tr>\n",
       "      <th>0</th>\n",
       "      <td>PEM</td>\n",
       "      <td>1078</td>\n",
       "      <td>25.0</td>\n",
       "      <td>3</td>\n",
       "      <td>7</td>\n",
       "      <td>20</td>\n",
       "      <td>10.0</td>\n",
       "      <td>-0.1976</td>\n",
       "    </tr>\n",
       "    <tr>\n",
       "      <th>1</th>\n",
       "      <td>AEL</td>\n",
       "      <td>902</td>\n",
       "      <td>25.0</td>\n",
       "      <td>3</td>\n",
       "      <td>7</td>\n",
       "      <td>20</td>\n",
       "      <td>10.0</td>\n",
       "      <td>-0.1976</td>\n",
       "    </tr>\n",
       "    <tr>\n",
       "      <th>2</th>\n",
       "      <td>Storage</td>\n",
       "      <td>530</td>\n",
       "      <td>NaN</td>\n",
       "      <td>2</td>\n",
       "      <td>7</td>\n",
       "      <td>30</td>\n",
       "      <td>NaN</td>\n",
       "      <td>NaN</td>\n",
       "    </tr>\n",
       "    <tr>\n",
       "      <th>3</th>\n",
       "      <td>Compressor</td>\n",
       "      <td>2500</td>\n",
       "      <td>NaN</td>\n",
       "      <td>5</td>\n",
       "      <td>7</td>\n",
       "      <td>15</td>\n",
       "      <td>NaN</td>\n",
       "      <td>NaN</td>\n",
       "    </tr>\n",
       "  </tbody>\n",
       "</table>\n",
       "</div>"
      ],
      "text/plain": [
       "   technology  CAPEX  stack_replacement  maintanence_cost  discount_rate  \\\n",
       "0         PEM   1078               25.0                 3              7   \n",
       "1         AEL    902               25.0                 3              7   \n",
       "2     Storage    530                NaN                 2              7   \n",
       "3  Compressor   2500                NaN                 5              7   \n",
       "\n",
       "   lifetime  stack_lifetime  scaling_factor  \n",
       "0        20            10.0         -0.1976  \n",
       "1        20            10.0         -0.1976  \n",
       "2        30             NaN             NaN  \n",
       "3        15             NaN             NaN  "
      ]
     },
     "metadata": {},
     "output_type": "display_data"
    }
   ],
   "source": [
    "import pandas as pd\n",
    "#data input\n",
    "electrolyzers_df = pd.read_csv('/Users/kanankhasmammadov/Desktop/Thesis - Electrolyzer market participation/flexABLE_w_electrolyzer/input/2016/electrolyzers.csv')\n",
    "economic_assumption = pd.read_csv('/Users/kanankhasmammadov/Desktop/Thesis - Electrolyzer market participation/flexABLE_w_electrolyzer/Data/economic_assumptions.csv')\n",
    "display(electrolyzers_df)\n",
    "display(economic_assumption)\n"
   ]
  },
  {
   "cell_type": "markdown",
   "metadata": {},
   "source": [
    "### CAPEX+OPEX Calculation\n",
    "Calculating Electrolyzer CAPEX/OPEX\n",
    "Stack replacement cost is assumed to happen once in project liftime."
   ]
  },
  {
   "cell_type": "code",
   "execution_count": 2,
   "metadata": {},
   "outputs": [
    {
     "name": "stdout",
     "output_type": "stream",
     "text": [
      "Iron and steel industry electrolyzer CAPEX: 3.194 Mln. Euro\n",
      "Iron and steel industry electrolyzer OPEX: 0.096 Mln. Euro\n"
     ]
    }
   ],
   "source": [
    "elec_capacity = electrolyzers_df['installedCapacity'] #installed capacity of electrolyzer per subsector [MW]\n",
    "elec_investment = economic_assumption['CAPEX']*1000 #Specifiv investment per MW installed [Euro/MW]\n",
    "scaling_factor = -0.1976 #Scaling factor means the larger capacity, the cheaper it costs per electrolyzer MW installation [unitless]\n",
    "elec_OPEX = economic_assumption['maintanence_cost'][0] #percentage of CAPEX [%] \n",
    "def calculate_elec_CAPEX(technology, capacity):\n",
    "    if technology == 'PEM':\n",
    "        CAPEX = (capacity * elec_investment[0])**scaling_factor + (capacity * elec_investment[0]*0.25)\n",
    "    if technology == 'AEL':\n",
    "        CAPEX = (capacity * elec_investment[1])**scaling_factor + (capacity * elec_investment[1]*0.25)\n",
    "    return CAPEX\n",
    "\n",
    "elec_CAPEX_iron_steel = calculate_elec_CAPEX(technology='PEM', capacity = elec_capacity[0])\n",
    "elec_OPEX_iron_steel = elec_CAPEX_iron_steel*elec_OPEX/100\n",
    "print('Iron and steel industry electrolyzer CAPEX:', round(elec_CAPEX_iron_steel/10e5, 3), 'Mln. Euro')\n",
    "print('Iron and steel industry electrolyzer OPEX:', round(elec_OPEX_iron_steel/10e5, 3), 'Mln. Euro')\n"
   ]
  },
  {
   "cell_type": "markdown",
   "metadata": {},
   "source": [
    "Calculating Storage CAPEX/OPEX"
   ]
  },
  {
   "cell_type": "code",
   "execution_count": 4,
   "metadata": {},
   "outputs": [
    {
     "name": "stdout",
     "output_type": "stream",
     "text": [
      "Iron and steel industry storage CAPEX: 106.0 Mln. Euro\n",
      "Iron and steel industry storage OPEX: 2.12 Mln. Euro\n"
     ]
    }
   ],
   "source": [
    "storage_investment = economic_assumption['CAPEX'][2]*1000 #Specifiv investment per MW installed [Euro/MW]\n",
    "storage_opex = economic_assumption['maintanence_cost'][2]\n",
    "storage_cpacity = electrolyzers_df['maxSOC'] #installed storage capacity  [KG]\n",
    "\n",
    "storage_CAPEX_iron_steel = storage_investment*storage_cpacity[0]\n",
    "storage_OPEX_iron_steel = storage_CAPEX_iron_steel * storage_opex/100 \n",
    "\n",
    "print('Iron and steel industry storage CAPEX:', round(storage_CAPEX_iron_steel/10e5, 3), 'Mln. Euro')\n",
    "print('Iron and steel industry storage OPEX:', round(storage_OPEX_iron_steel/10e5, 3), 'Mln. Euro')"
   ]
  },
  {
   "cell_type": "markdown",
   "metadata": {},
   "source": [
    "Calculating Compressor CAPEX/OPEX\n",
    "Compressor does not have fixed installed capacity, rather it is calculated based on the maximal hourly mass flow of H2 in different scenarios. "
   ]
  },
  {
   "cell_type": "code",
   "execution_count": 14,
   "metadata": {},
   "outputs": [
    {
     "data": {
      "text/plain": [
       "Index(['Unnamed: 0', 'timestamp', 'bidQuantity', 'electrolyzer_consumption',\n",
       "       'compressor_consumption', 'produced_h2', 'electrolyzer_to_plant_h2',\n",
       "       'electrolyzer_to_storage_h2', 'storage_to_plant_h2', 'SOC', 'isRunning',\n",
       "       'isStandBy', 'isIdle', 'isColdStarted', 'PFC', 'h2demand'],\n",
       "      dtype='object')"
      ]
     },
     "metadata": {},
     "output_type": "display_data"
    },
    {
     "name": "stdout",
     "output_type": "stream",
     "text": [
      "Iron and steel industry compressor CAPEX: 40.46 Mln. Euro\n",
      "Iron and steel industry compressor OPEX: 2.023 Mln. Euro\n"
     ]
    }
   ],
   "source": [
    "#Compressor calculation for iron and steel industry (#repeat it for other subsectors)\n",
    "iron_steel_schedule = pd.read_csv('/Users/kanankhasmammadov/Desktop/Thesis - Electrolyzer market participation/flexABLE_w_electrolyzer/output/2016_w_opt/Elec_capacities/Iron_steel_optimizedBidAmount.csv')\n",
    "display(iron_steel_schedule.columns)\n",
    "compressor_investment = economic_assumption['CAPEX'][3] #Specifiv investment [Euro/kg/hour]\n",
    "compressor_opex = economic_assumption['maintanence_cost'][3] #% of CAPEX\n",
    "h2_mass_flow = iron_steel_schedule['electrolyzer_to_storage_h2'] #15min mass flow of hydrogen\n",
    "hourly_h2_mass_flow = h2_mass_flow.groupby(h2_mass_flow.index // 4).sum() #resample 15min data into hours\n",
    "compressor_capacity = max(hourly_h2_mass_flow)\n",
    "\n",
    "compressor_CAPEX_iron_steel = storage_investment*compressor_capacity\n",
    "compressor_OPEX_iron_steel = compressor_CAPEX_iron_steel*compressor_opex/100\n",
    "\n",
    "print('Iron and steel industry compressor CAPEX:', round(compressor_CAPEX_iron_steel/10e5, 3), 'Mln. Euro')\n",
    "print('Iron and steel industry compressor OPEX:', round(compressor_OPEX_iron_steel/10e5, 3), 'Mln. Euro')"
   ]
  },
  {
   "cell_type": "markdown",
   "metadata": {},
   "source": [
    "Calculate tolal CAPEX and OPEX"
   ]
  },
  {
   "cell_type": "code",
   "execution_count": 11,
   "metadata": {},
   "outputs": [
    {
     "name": "stdout",
     "output_type": "stream",
     "text": [
      "Iron and steel industry total CAPEX: 149.668 Mln. Euro\n",
      "Iron and steel industry total OPEX: 4.24 Mln. Euro\n"
     ]
    }
   ],
   "source": [
    "total_CAPEX_iron_steel = elec_CAPEX_iron_steel + storage_CAPEX_iron_steel + compressor_CAPEX_iron_steel\n",
    "total_OPEX_iron_steel = elec_OPEX_iron_steel + storage_OPEX_iron_steel + compressor_OPEX_iron_steel\n",
    "\n",
    "print('Iron and steel industry total CAPEX:', round(total_CAPEX_iron_steel/10e5, 3), 'Mln. Euro')\n",
    "print('Iron and steel industry total OPEX:', round(total_OPEX_iron_steel/10e5, 3), 'Mln. Euro')\n"
   ]
  },
  {
   "cell_type": "markdown",
   "metadata": {},
   "source": [
    "### Electricity Cost Calculation"
   ]
  },
  {
   "cell_type": "code",
   "execution_count": 15,
   "metadata": {},
   "outputs": [
    {
     "name": "stdout",
     "output_type": "stream",
     "text": [
      "Iron and steel industry electricity cost: 219.28 Mln. Euro\n"
     ]
    }
   ],
   "source": [
    "EOM_prices = pd.read_csv('/Users/kanankhasmammadov/Desktop/Thesis - Electrolyzer market participation/flexABLE_w_electrolyzer/output/2016_w_opt/EOM_Prices_W_opt.csv')\n",
    "elec_price = EOM_prices['Price'] #EOM energy price [Euro/MWh]\n",
    "purchased_energy_iron_steel = iron_steel_schedule['bidQuantity']*0.25 #energy purchase from market [MWh]\n",
    "energy_cost_iron_steel = sum(purchased_energy_iron_steel*elec_price)\n",
    "print('Iron and steel industry electricity cost:', round(energy_cost_iron_steel/10e5, 2), 'Mln. Euro')"
   ]
  },
  {
   "cell_type": "markdown",
   "metadata": {},
   "source": [
    "### LCOH calculation"
   ]
  },
  {
   "cell_type": "code",
   "execution_count": 69,
   "metadata": {},
   "outputs": [
    {
     "name": "stdout",
     "output_type": "stream",
     "text": [
      "LCOH for Iron and steel industry : 3.87 Euro\n"
     ]
    }
   ],
   "source": [
    "# annuity_factor = \n",
    "energyContentH2_LHV = 0.03333\n",
    "produced_H2_iron_steel_kg = sum(iron_steel_schedule['produced_h2']) #kg of total produced H2\n",
    "produced_H2_iron_steel_Mwh = produced_H2_iron_steel_kg*\n",
    "LCOH_iron_steel = (total_CAPEX_iron_steel+ total_OPEX_iron_steel+energy_cost_iron_steel)/produced_H2_iron_steel_kg\n",
    "print('LCOH for Iron and steel industry :', round(LCOH_iron_steel, 2), 'Euro')"
   ]
  },
  {
   "cell_type": "code",
   "execution_count": 70,
   "metadata": {},
   "outputs": [
    {
     "data": {
      "image/png": "[encoded data removed]",
      "text/plain": [
       "<Figure size 640x480 with 1 Axes>"
      ]
     },
     "metadata": {},
     "output_type": "display_data"
    }
   ],
   "source": [
    "import matplotlib.pyplot as plt\n",
    "\n",
    "# Calculate the percentage contribution of each component\n",
    "components = ['CAPEX', 'OPEX', 'Energy Cost']\n",
    "values = [total_CAPEX_iron_steel, total_OPEX_iron_steel, energy_cost_iron_steel]\n",
    "total = sum(values)\n",
    "percentages = [(value / total) * 100 for value in values]\n",
    "\n",
    "# Create the pie chart\n",
    "plt.pie(percentages, labels=components, autopct='%1.1f%%')\n",
    "plt.title('Contribution of Components to LCOH')\n",
    "plt.axis('equal')\n",
    "plt.show()\n"
   ]
  }
 ],
 "metadata": {
  "kernelspec": {
   "display_name": "base",
   "language": "python",
   "name": "python3"
  },
  "language_info": {
   "codemirror_mode": {
    "name": "ipython",
    "version": 3
   },
   "file_extension": ".py",
   "mimetype": "text/x-python",
   "name": "python",
   "nbconvert_exporter": "python",
   "pygments_lexer": "ipython3",
   "version": "3.11.7"
  }
 },
 "nbformat": 4,
 "nbformat_minor": 2
}

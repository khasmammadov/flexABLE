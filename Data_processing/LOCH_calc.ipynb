{
 "cells": [
  {
   "cell_type": "markdown",
   "metadata": {},
   "source": [
    "# Levelized Costs of Hydrogen\n",
    "The LCoE is often used to compare different energy–generating technologies [70], [86], [111], [122]. This approach is applied by this master thesis to compute the LCoH2 issued by the PtH2 unit. The LCoH2 are calculated by equation 2.11 which includes the annual Capital Expenditures (CapEx), the annual Operating Expenditures (OpEx) and the annual amount of hydrogen produced mH2,a. The CapEx are considered according to the annuity method based on the norm DIN 2067 issued by the “Verein Deutsche Ingenieure” [142].\n",
    "\n",
    "$LCoH_2 = \\frac{CapEx_a + OpEx_a}{m_{H_2,a}}$\n",
    "\\begin{align*}\n",
    "CapEx_a & : \\text{Annual Capital Expenditures} \\\\\n",
    "OpEx_a & : \\text{Annual Operating Expenditures} \\\\\n",
    "m_{H_2,a} & : \\text{Annual mass of produced hydrogen}\n",
    "\\end{align*}\n"
   ]
  },
  {
   "cell_type": "markdown",
   "metadata": {},
   "source": [
    "$\\text{CapEx}_a = \\sum \\left( (Inv_{\\text{comp}} + Inv_{\\text{comp},re} - Value_{\\text{comp},Residual}) \\cdot A_r \\right)$\n",
    "\\begin{align*}\n",
    "Inv, Inv_re & : \\text{Specific investment, specific reinvestment}\\\\\n",
    "Value_Residual  & : \\text{Residual value after project lifetime}\\\\\n",
    "A_r & : \\text{ Annuity factor}\n",
    "\\end{align*}"
   ]
  },
  {
   "cell_type": "code",
   "execution_count": 19,
   "metadata": {},
   "outputs": [
    {
     "data": {
      "text/html": [
       "<div>\n",
       "<style scoped>\n",
       "    .dataframe tbody tr th:only-of-type {\n",
       "        vertical-align: middle;\n",
       "    }\n",
       "\n",
       "    .dataframe tbody tr th {\n",
       "        vertical-align: top;\n",
       "    }\n",
       "\n",
       "    .dataframe thead th {\n",
       "        text-align: right;\n",
       "    }\n",
       "</style>\n",
       "<table border=\"1\" class=\"dataframe\">\n",
       "  <thead>\n",
       "    <tr style=\"text-align: right;\">\n",
       "      <th></th>\n",
       "      <th>name</th>\n",
       "      <th>technology</th>\n",
       "      <th>minLoad</th>\n",
       "      <th>maxLoad</th>\n",
       "      <th>installedCapacity</th>\n",
       "      <th>effElec</th>\n",
       "      <th>minDowntime</th>\n",
       "      <th>minRuntime</th>\n",
       "      <th>coldStartUpCost</th>\n",
       "      <th>maxAllowedColdStartups</th>\n",
       "      <th>standbyCons</th>\n",
       "      <th>comprCons</th>\n",
       "      <th>maxSOC</th>\n",
       "      <th>company</th>\n",
       "    </tr>\n",
       "  </thead>\n",
       "  <tbody>\n",
       "    <tr>\n",
       "      <th>0</th>\n",
       "      <td>Iron_steel</td>\n",
       "      <td>PEM</td>\n",
       "      <td>0.05</td>\n",
       "      <td>1.2</td>\n",
       "      <td>11850</td>\n",
       "      <td>0.63</td>\n",
       "      <td>0.5</td>\n",
       "      <td>1</td>\n",
       "      <td>50</td>\n",
       "      <td>3000</td>\n",
       "      <td>0.0005</td>\n",
       "      <td>0.0012</td>\n",
       "      <td>100000</td>\n",
       "      <td>Iron_steel</td>\n",
       "    </tr>\n",
       "  </tbody>\n",
       "</table>\n",
       "</div>"
      ],
      "text/plain": [
       "         name technology  minLoad  maxLoad  installedCapacity  effElec  \\\n",
       "0  Iron_steel        PEM     0.05      1.2              11850     0.63   \n",
       "\n",
       "   minDowntime  minRuntime  coldStartUpCost  maxAllowedColdStartups  \\\n",
       "0          0.5           1               50                    3000   \n",
       "\n",
       "   standbyCons  comprCons  maxSOC     company  \n",
       "0       0.0005     0.0012  100000  Iron_steel  "
      ]
     },
     "metadata": {},
     "output_type": "display_data"
    },
    {
     "data": {
      "text/html": [
       "<div>\n",
       "<style scoped>\n",
       "    .dataframe tbody tr th:only-of-type {\n",
       "        vertical-align: middle;\n",
       "    }\n",
       "\n",
       "    .dataframe tbody tr th {\n",
       "        vertical-align: top;\n",
       "    }\n",
       "\n",
       "    .dataframe thead th {\n",
       "        text-align: right;\n",
       "    }\n",
       "</style>\n",
       "<table border=\"1\" class=\"dataframe\">\n",
       "  <thead>\n",
       "    <tr style=\"text-align: right;\">\n",
       "      <th></th>\n",
       "      <th>technology</th>\n",
       "      <th>CAPEX</th>\n",
       "      <th>stack_replacement</th>\n",
       "      <th>OPEX</th>\n",
       "      <th>discount_rate</th>\n",
       "      <th>lifetime</th>\n",
       "      <th>stack_lifetime</th>\n",
       "      <th>scaling_factor</th>\n",
       "    </tr>\n",
       "  </thead>\n",
       "  <tbody>\n",
       "    <tr>\n",
       "      <th>0</th>\n",
       "      <td>PEM</td>\n",
       "      <td>1078</td>\n",
       "      <td>25.0</td>\n",
       "      <td>3</td>\n",
       "      <td>7</td>\n",
       "      <td>20</td>\n",
       "      <td>10.0</td>\n",
       "      <td>-0.1976</td>\n",
       "    </tr>\n",
       "    <tr>\n",
       "      <th>1</th>\n",
       "      <td>AEL</td>\n",
       "      <td>902</td>\n",
       "      <td>25.0</td>\n",
       "      <td>3</td>\n",
       "      <td>7</td>\n",
       "      <td>20</td>\n",
       "      <td>10.0</td>\n",
       "      <td>-0.1976</td>\n",
       "    </tr>\n",
       "    <tr>\n",
       "      <th>2</th>\n",
       "      <td>Storage</td>\n",
       "      <td>530</td>\n",
       "      <td>NaN</td>\n",
       "      <td>2</td>\n",
       "      <td>7</td>\n",
       "      <td>30</td>\n",
       "      <td>NaN</td>\n",
       "      <td>NaN</td>\n",
       "    </tr>\n",
       "    <tr>\n",
       "      <th>3</th>\n",
       "      <td>Compressor</td>\n",
       "      <td>2500</td>\n",
       "      <td>NaN</td>\n",
       "      <td>5</td>\n",
       "      <td>7</td>\n",
       "      <td>15</td>\n",
       "      <td>NaN</td>\n",
       "      <td>NaN</td>\n",
       "    </tr>\n",
       "  </tbody>\n",
       "</table>\n",
       "</div>"
      ],
      "text/plain": [
       "   technology  CAPEX  stack_replacement  OPEX  discount_rate  lifetime  \\\n",
       "0         PEM   1078               25.0     3              7        20   \n",
       "1         AEL    902               25.0     3              7        20   \n",
       "2     Storage    530                NaN     2              7        30   \n",
       "3  Compressor   2500                NaN     5              7        15   \n",
       "\n",
       "   stack_lifetime  scaling_factor  \n",
       "0            10.0         -0.1976  \n",
       "1            10.0         -0.1976  \n",
       "2             NaN             NaN  \n",
       "3             NaN             NaN  "
      ]
     },
     "metadata": {},
     "output_type": "display_data"
    }
   ],
   "source": [
    "import pandas as pd\n",
    "#data input\n",
    "electrolyzers_df = pd.read_csv('/Users/kanankhasmammadov/Desktop/Thesis - Electrolyzer market participation/flexABLE_w_electrolyzer/input/2016/electrolyzers.csv')\n",
    "economic_assumption_df = pd.read_csv('/Users/kanankhasmammadov/Desktop/Thesis - Electrolyzer market participation/flexABLE_w_electrolyzer/Data/economic_assumptions.csv')\n",
    "display(electrolyzers_df)\n",
    "display(economic_assumption_df)\n"
   ]
  },
  {
   "cell_type": "markdown",
   "metadata": {},
   "source": [
    "### CAPEX Calculation\n",
    "Calculating Electrolyzer CAPEX"
   ]
  },
  {
   "cell_type": "code",
   "execution_count": 21,
   "metadata": {},
   "outputs": [
    {
     "data": {
      "text/plain": [
       "3193575.0394264604"
      ]
     },
     "execution_count": 21,
     "metadata": {},
     "output_type": "execute_result"
    }
   ],
   "source": [
    "\n",
    "def calculate_elec_CAPEX(technology, capacity):\n",
    "    if technology == 'PEM':\n",
    "        CAPEX = (capacity * 1078)**(-0.1976) + (capacity * 1078*0.25)\n",
    "    if technology == 'AEL':\n",
    "        CAPEX = (capacity * 902)**(-0.1976) + (capacity * 902*0.25)\n",
    "    return CAPEX\n",
    "\n",
    "iron_steel_elec_CAPEX = calculate_elec_CAPEX(technology='PEM', capacity = electrolyzers_df.loc[0, 'installedCapacity'])\n",
    "iron_steel_elec_CAPEX"
   ]
  },
  {
   "cell_type": "markdown",
   "metadata": {},
   "source": [
    "#### Compressor CAPEX"
   ]
  },
  {
   "cell_type": "markdown",
   "metadata": {},
   "source": [
    "#### Storage CAPEX"
   ]
  },
  {
   "cell_type": "markdown",
   "metadata": {},
   "source": [
    "### OPEX calculation"
   ]
  },
  {
   "cell_type": "code",
   "execution_count": null,
   "metadata": {},
   "outputs": [],
   "source": [
    "EOM_prices_df = pd.read_csv('/Users/kanankhasmammadov/Desktop/Thesis - Electrolyzer market participation/flexABLE_w_electrolyzer/output/2016/EOM_Prices.csv')\n",
    "iron_steel_df = pd.read_csv('/Users/kanankhasmammadov/Desktop/Thesis - Electrolyzer market participation/flexABLE_w_electrolyzer/output/2016/Elec_capacities/Elec_x_optimizedBidAmount.csv')\n"
   ]
  }
 ],
 "metadata": {
  "kernelspec": {
   "display_name": "base",
   "language": "python",
   "name": "python3"
  },
  "language_info": {
   "codemirror_mode": {
    "name": "ipython",
    "version": 3
   },
   "file_extension": ".py",
   "mimetype": "text/x-python",
   "name": "python",
   "nbconvert_exporter": "python",
   "pygments_lexer": "ipython3",
   "version": "3.11.7"
  }
 },
 "nbformat": 4,
 "nbformat_minor": 2
}

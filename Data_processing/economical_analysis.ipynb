{
 "cells": [
  {
   "cell_type": "markdown",
   "metadata": {},
   "source": [
    "# Levelized Costs of Hydrogen\n",
    "The LCoE is often used to compare different energy–generating technologies [70], [86], [111], [122]. This approach is applied by this master thesis to compute the LCoH2 issued by the PtH2 unit. The LCoH2 are calculated by equation 2.11 which includes the annual Capital Expenditures (CapEx), the annual Operating Expenditures (OpEx) and the annual amount of hydrogen produced mH2,a. The CapEx are considered according to the annuity method based on the norm DIN 2067 issued by the “Verein Deutsche Ingenieure” [142].\n",
    "\n",
    "$LCoH_2 = \\frac{CapEx_a + OpEx_a}{m_{H_2,a}}$\n",
    "\\begin{align*}\n",
    "CapEx_a & : \\text{Annual Capital Expenditures} \\\\\n",
    "OpEx_a & : \\text{Annual Operating Expenditures} \\\\\n",
    "m_{H_2,a} & : \\text{Annual mass of produced hydrogen}\n",
    "\\end{align*}\n"
   ]
  },
  {
   "cell_type": "markdown",
   "metadata": {},
   "source": [
    "$\\text{CapEx}_a = \\sum \\left( (Inv_{\\text{comp}} + Inv_{\\text{comp},re} - Value_{\\text{comp},Residual}) \\cdot A_r \\right)$\n",
    "\\begin{align*}\n",
    "Inv, Inv_re & : \\text{Specific investment, specific reinvestment}\\\\\n",
    "Value_Residual  & : \\text{Residual value after project lifetime}\\\\\n",
    "A_r & : \\text{ Annuity factor}\n",
    "\\end{align*}"
   ]
  },
  {
   "cell_type": "markdown",
   "metadata": {},
   "source": []
  },
  {
   "cell_type": "code",
   "execution_count": 3,
   "metadata": {},
   "outputs": [
    {
     "name": "stdout",
     "output_type": "stream",
     "text": [
      "Index(['name', 'technology', 'minPower', 'installedCapacity', 'effElec',\n",
      "       'minDowntime', 'minRuntime', 'hotStartupCons', 'coldStartUpCons',\n",
      "       'maxAllowedColdStartups', 'standbyCons', 'compEff', 'compPressIn',\n",
      "       'compPressOut', 'compTempIn', 'comprCons', 'maxSOC', 'maxStorageOutput',\n",
      "       'company'],\n",
      "      dtype='object')\n",
      "Index(['Unnamed: 0', 'timestamp', 'bidQuantity', 'electrolyzer_consumption',\n",
      "       'compressor_consumption', 'produced_h2', 'electrolyzer_to_plant_h2',\n",
      "       'electrolyzer_to_storage_h2', 'storage_to_plant_h2', 'SOC', 'isRunning',\n",
      "       'isStandBy', 'isIdle', 'isHotStarted', 'isColdStarted', 'PFC',\n",
      "       'h2demand'],\n",
      "      dtype='object')\n",
      "Index(['Unnamed: 0', 'Price'], dtype='object')\n"
     ]
    }
   ],
   "source": [
    "import pandas as pd\n",
    "#data input\n",
    "EOM_prices = pd.read_csv('/Users/kanankhasmammadov/Desktop/Thesis - Electrolyzer market participation/flexABLE_w_electrolyzer/output/2016/EOM_Prices.csv')\n",
    "electrolyzers = pd.read_csv('/Users/kanankhasmammadov/Desktop/Thesis - Electrolyzer market participation/flexABLE_w_electrolyzer/input/2016/electrolyzers.csv')\n",
    "elec_x = pd.read_csv('/Users/kanankhasmammadov/Desktop/Thesis - Electrolyzer market participation/flexABLE_w_electrolyzer/output/2016/Elec_capacities/Elec_x_optimizedBidAmount.csv')\n",
    "\n",
    "print(electrolyzers.columns)\n",
    "print(elec_x.columns)\n",
    "print(EOM_prices.columns)\n"
   ]
  },
  {
   "cell_type": "code",
   "execution_count": null,
   "metadata": {},
   "outputs": [],
   "source": [
    "#specify economical parameters\n",
    "specInv_PEM = 1078000 #Euro/MW\n",
    "lifetimeInv_PEM = 20 #years\n",
    "lifetimeReInv_PEM = 10 #years\n",
    "specInv_AEL = 902000 #Euro/MW\n"
   ]
  }
 ],
 "metadata": {
  "kernelspec": {
   "display_name": "base",
   "language": "python",
   "name": "python3"
  },
  "language_info": {
   "codemirror_mode": {
    "name": "ipython",
    "version": 3
   },
   "file_extension": ".py",
   "mimetype": "text/x-python",
   "name": "python",
   "nbconvert_exporter": "python",
   "pygments_lexer": "ipython3",
   "version": "3.11.5"
  }
 },
 "nbformat": 4,
 "nbformat_minor": 2
}

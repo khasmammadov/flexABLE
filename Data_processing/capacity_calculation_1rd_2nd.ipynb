{
 "cells": [
  {
   "cell_type": "markdown",
   "metadata": {},
   "source": [
    "### PtH2 system size calculation\n",
    "Following script is used to calculate Electrolyzer size for first and second scenario per each industrial sector. Storage size is also calculated for 3rd scenario which then be used as input storage size value for capacity optimizatin script.     "
   ]
  },
  {
   "cell_type": "code",
   "execution_count": 4,
   "metadata": {},
   "outputs": [
    {
     "data": {
      "text/html": [
       "<div>\n",
       "<style scoped>\n",
       "    .dataframe tbody tr th:only-of-type {\n",
       "        vertical-align: middle;\n",
       "    }\n",
       "\n",
       "    .dataframe tbody tr th {\n",
       "        vertical-align: top;\n",
       "    }\n",
       "\n",
       "    .dataframe thead th {\n",
       "        text-align: right;\n",
       "    }\n",
       "</style>\n",
       "<table border=\"1\" class=\"dataframe\">\n",
       "  <thead>\n",
       "    <tr style=\"text-align: right;\">\n",
       "      <th></th>\n",
       "      <th>Unnamed: 0</th>\n",
       "      <th>Iron_steel</th>\n",
       "      <th>Timestamp</th>\n",
       "    </tr>\n",
       "  </thead>\n",
       "  <tbody>\n",
       "    <tr>\n",
       "      <th>0</th>\n",
       "      <td>0</td>\n",
       "      <td>48084.11</td>\n",
       "      <td>2016-01-01 00:00:00</td>\n",
       "    </tr>\n",
       "    <tr>\n",
       "      <th>1</th>\n",
       "      <td>1</td>\n",
       "      <td>48034.88</td>\n",
       "      <td>2016-01-01 00:15:00</td>\n",
       "    </tr>\n",
       "    <tr>\n",
       "      <th>2</th>\n",
       "      <td>2</td>\n",
       "      <td>48104.89</td>\n",
       "      <td>2016-01-01 00:30:00</td>\n",
       "    </tr>\n",
       "    <tr>\n",
       "      <th>3</th>\n",
       "      <td>3</td>\n",
       "      <td>48076.33</td>\n",
       "      <td>2016-01-01 00:45:00</td>\n",
       "    </tr>\n",
       "    <tr>\n",
       "      <th>4</th>\n",
       "      <td>4</td>\n",
       "      <td>48420.37</td>\n",
       "      <td>2016-01-01 01:00:00</td>\n",
       "    </tr>\n",
       "    <tr>\n",
       "      <th>...</th>\n",
       "      <td>...</td>\n",
       "      <td>...</td>\n",
       "      <td>...</td>\n",
       "    </tr>\n",
       "    <tr>\n",
       "      <th>35131</th>\n",
       "      <td>35131</td>\n",
       "      <td>48110.13</td>\n",
       "      <td>2016-12-31 22:45:00</td>\n",
       "    </tr>\n",
       "    <tr>\n",
       "      <th>35132</th>\n",
       "      <td>35132</td>\n",
       "      <td>47964.95</td>\n",
       "      <td>2016-12-31 23:00:00</td>\n",
       "    </tr>\n",
       "    <tr>\n",
       "      <th>35133</th>\n",
       "      <td>35133</td>\n",
       "      <td>48008.64</td>\n",
       "      <td>2016-12-31 23:15:00</td>\n",
       "    </tr>\n",
       "    <tr>\n",
       "      <th>35134</th>\n",
       "      <td>35134</td>\n",
       "      <td>48125.15</td>\n",
       "      <td>2016-12-31 23:30:00</td>\n",
       "    </tr>\n",
       "    <tr>\n",
       "      <th>35135</th>\n",
       "      <td>35135</td>\n",
       "      <td>48030.25</td>\n",
       "      <td>2016-12-31 23:45:00</td>\n",
       "    </tr>\n",
       "  </tbody>\n",
       "</table>\n",
       "<p>35136 rows × 3 columns</p>\n",
       "</div>"
      ],
      "text/plain": [
       "       Unnamed: 0  Iron_steel           Timestamp\n",
       "0               0    48084.11 2016-01-01 00:00:00\n",
       "1               1    48034.88 2016-01-01 00:15:00\n",
       "2               2    48104.89 2016-01-01 00:30:00\n",
       "3               3    48076.33 2016-01-01 00:45:00\n",
       "4               4    48420.37 2016-01-01 01:00:00\n",
       "...           ...         ...                 ...\n",
       "35131       35131    48110.13 2016-12-31 22:45:00\n",
       "35132       35132    47964.95 2016-12-31 23:00:00\n",
       "35133       35133    48008.64 2016-12-31 23:15:00\n",
       "35134       35134    48125.15 2016-12-31 23:30:00\n",
       "35135       35135    48030.25 2016-12-31 23:45:00\n",
       "\n",
       "[35136 rows x 3 columns]"
      ]
     },
     "metadata": {},
     "output_type": "display_data"
    },
    {
     "data": {
      "text/html": [
       "<div>\n",
       "<style scoped>\n",
       "    .dataframe tbody tr th:only-of-type {\n",
       "        vertical-align: middle;\n",
       "    }\n",
       "\n",
       "    .dataframe tbody tr th {\n",
       "        vertical-align: top;\n",
       "    }\n",
       "\n",
       "    .dataframe thead th {\n",
       "        text-align: right;\n",
       "    }\n",
       "</style>\n",
       "<table border=\"1\" class=\"dataframe\">\n",
       "  <thead>\n",
       "    <tr style=\"text-align: right;\">\n",
       "      <th></th>\n",
       "      <th>name</th>\n",
       "      <th>technology</th>\n",
       "      <th>minLoad</th>\n",
       "      <th>maxLoad</th>\n",
       "      <th>installedCapacity</th>\n",
       "      <th>effElec</th>\n",
       "      <th>minDowntime</th>\n",
       "      <th>coldStartUpCost</th>\n",
       "      <th>maxAllowedColdStartups</th>\n",
       "      <th>standbyCons</th>\n",
       "      <th>comprCons</th>\n",
       "      <th>maxSOC</th>\n",
       "      <th>company</th>\n",
       "    </tr>\n",
       "  </thead>\n",
       "  <tbody>\n",
       "    <tr>\n",
       "      <th>0</th>\n",
       "      <td>Iron_steel</td>\n",
       "      <td>PEM</td>\n",
       "      <td>0.05</td>\n",
       "      <td>1.2</td>\n",
       "      <td>11850</td>\n",
       "      <td>0.63</td>\n",
       "      <td>0.5</td>\n",
       "      <td>50</td>\n",
       "      <td>3000</td>\n",
       "      <td>0.0005</td>\n",
       "      <td>0.0012</td>\n",
       "      <td>200000</td>\n",
       "      <td>Iron_steel</td>\n",
       "    </tr>\n",
       "  </tbody>\n",
       "</table>\n",
       "</div>"
      ],
      "text/plain": [
       "         name technology  minLoad  maxLoad  installedCapacity  effElec  \\\n",
       "0  Iron_steel        PEM     0.05      1.2              11850     0.63   \n",
       "\n",
       "   minDowntime  coldStartUpCost  maxAllowedColdStartups  standbyCons  \\\n",
       "0          0.5               50                    3000       0.0005   \n",
       "\n",
       "   comprCons  maxSOC     company  \n",
       "0     0.0012  200000  Iron_steel  "
      ]
     },
     "metadata": {},
     "output_type": "display_data"
    }
   ],
   "source": [
    "import pandas as pd\n",
    "#data input\n",
    "industrialDemandH2 = pd.read_csv('/Users/kanankhasmammadov/Desktop/Thesis - Electrolyzer market participation/flexABLE_w_electrolyzer/input/2019/industrial_demand.csv')\n",
    "electrolyzers = pd.read_csv('/Users/kanankhasmammadov/Desktop/Thesis - Electrolyzer market participation/flexABLE_w_electrolyzer/input/2019/electrolyzers.csv')\n",
    "industrialDemandH2['Timestamp'] = pd.date_range(start=f'1/1/2016', end=f'12/31/2016 23:45', freq='15T')            \n",
    "\n",
    "display(industrialDemandH2)\n",
    "display(electrolyzers)"
   ]
  },
  {
   "cell_type": "markdown",
   "metadata": {},
   "source": [
    "### Electrolyzer capacity calculation\n",
    "\n",
    "The electrolyzer capacity should be able to produce hydrogen at each step without having need for storage. Therefore the maximum hydrogen demand value is extracted on study year and respective electrolyzer power is calculated for it. Since data frequency is 15 minute, that should also be considered in calculation."
   ]
  },
  {
   "cell_type": "code",
   "execution_count": 5,
   "metadata": {},
   "outputs": [
    {
     "name": "stdout",
     "output_type": "stream",
     "text": [
      "11830.0 MW iron_steel_Capacity\n"
     ]
    }
   ],
   "source": [
    "energyContentH2_LHV = 0.03333 #MWh/kg or lower heating value of H2\n",
    "efficiency = electrolyzers['effElec']\n",
    "maxLoad = electrolyzers['maxLoad']\n",
    "# Calculate electrolyzer capacity\n",
    "iron_steel_maxDemand = max(industrialDemandH2['Iron_steel'])\n",
    "\n",
    "iron_steel_Capacity = round((iron_steel_maxDemand * energyContentH2_LHV / efficiency[0]/0.25/maxLoad[0]), -1)\n",
    "# Metal_Capacity = round((Metal_maxDemand * energyContentH2_LHV / efficiency[1] / 0.25), -1)\n",
    "\n",
    "print(iron_steel_Capacity, 'MW iron_steel_Capacity')\n"
   ]
  },
  {
   "cell_type": "markdown",
   "metadata": {},
   "source": [
    "### Storage capacity calculation\n",
    "Storage capacity is calculated based on assumption of having 1 day of enough hydrogen storage to proceed with operations."
   ]
  },
  {
   "cell_type": "code",
   "execution_count": 9,
   "metadata": {},
   "outputs": [
    {
     "name": "stdout",
     "output_type": "stream",
     "text": [
      "2763950.0 storageCap_iron_steel\n"
     ]
    }
   ],
   "source": [
    "from statistics import mean\n",
    "# Calculate the maxSOC for H2 storage\n",
    "demandSum_iron_steel = [] #weekly or daily demand sum\n",
    "\n",
    "industrialDemandH2['Date'] = industrialDemandH2['Timestamp'].dt.date\n",
    "unique_days = industrialDemandH2['Date'].unique()\n",
    "for day in unique_days:\n",
    "    dailyIntervalDemand = industrialDemandH2[industrialDemandH2['Date'] == day]\n",
    "    daily_sum_iron_steel = sum(dailyIntervalDemand['Iron_steel'])\n",
    "    \n",
    "    demandSum_iron_steel.append(daily_sum_iron_steel) \n",
    "\n",
    "storageCap_iron_steel = round(mean(demandSum_iron_steel), -2)\n",
    "\n",
    "print(storageCap_iron_steel/2, 'storageCap_iron_steel')\n"
   ]
  }
 ],
 "metadata": {
  "kernelspec": {
   "display_name": "base",
   "language": "python",
   "name": "python3"
  },
  "language_info": {
   "codemirror_mode": {
    "name": "ipython",
    "version": 3
   },
   "file_extension": ".py",
   "mimetype": "text/x-python",
   "name": "python",
   "nbconvert_exporter": "python",
   "pygments_lexer": "ipython3",
   "version": "3.11.7"
  }
 },
 "nbformat": 4,
 "nbformat_minor": 2
}

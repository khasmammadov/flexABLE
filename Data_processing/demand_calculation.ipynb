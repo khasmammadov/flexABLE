{
 "cells": [
  {
   "cell_type": "code",
   "execution_count": 43,
   "metadata": {},
   "outputs": [],
   "source": [
    "import pandas as pd\n",
    "# import industrial consumption\n",
    "steel_df = pd.read_csv('/Users/kanankhasmammadov/Desktop/Thesis - Electrolyzer market participation/flexABLE_w_electrolyzer/Data/Metallerzeugung WZ08 24.1.csv')\n",
    "# Methanol = pd.read_csv('/Users/kanankhasmammadov/Desktop/Thesis - Electrolyzer market participation/flexABLE_w_electrolyzer/input/2016/electrolyzers.csv')\n",
    "# Ammonia = pd.read_csv('/Users/kanankhasmammadov/Desktop/Thesis - Electrolyzer market participation/flexABLE_w_electrolyzer/output/2016/Elec_capacities/Elec_x_optimizedBidAmount.csv')\n",
    "# Refineries = pd.read_csv('/Users/kanankhasmammadov/Desktop/Thesis - Electrolyzer market participation/flexABLE_w_electrolyzer/output/2016/EOM_Prices.csv')\n",
    "\n",
    "#initialize export csv\n",
    "industrial_H2demand = pd.DataFrame() \n",
    "\n"
   ]
  },
  {
   "cell_type": "markdown",
   "metadata": {},
   "source": [
    "### Hydrogen SEC values for industrial sector/processes\n",
    "Following values are specific energy values for required hydrogen per each unit of produced product.\n",
    "Refinery used different SEC H2 for different processes: \n",
    "- Refinery - Hydrocracking = 27 (kgH2/t)\n",
    "- Refinery - Catalytic Cracking = 7.2 (kgH2/t)\n",
    "- Refinery - Hydration of Cokers = 4.5 (kgH2/t)\n",
    "- Total = 38.7 (kgH2/t) = 38.7 * 0.03333 = 1.29 #MWh/t\n"
   ]
  },
  {
   "cell_type": "code",
   "execution_count": 44,
   "metadata": {},
   "outputs": [],
   "source": [
    "#Specific energy consumption per each industrial sector. Values are in MWh/t\n",
    "SEC_H2_Iron_steel = 1.89 #MWh/t\n",
    "SEC_H2_Methanol = 6.31 #MWh/t\n",
    "SEC_H2_Ammonia = 5.92 #MWh/t\n",
    "#data from : Neuwirth, M., Fleiter, T., Manz, P., & Hofmann, R. (2022). The future potential hydrogen demand in energy-intensive industries\n",
    "SEC_H2_Refineries =  1.29 #MWh/t\n",
    "#(from: Omar Abdelrahman. (n.d.). Spatial Disaggregation of Future Hydrogen Demand for the Industrial and Transport Sectors in Europe Chair of Renewable and Sustainable Energy Systems.)\n",
    "#lower heating value of H2\n",
    "energyContentH2_LHV = 0.03333 #MWh/kg"
   ]
  },
  {
   "cell_type": "markdown",
   "metadata": {},
   "source": [
    "### Calculate H2 demand for iron and steel industry: "
   ]
  },
  {
   "cell_type": "code",
   "execution_count": 47,
   "metadata": {},
   "outputs": [
    {
     "name": "stdout",
     "output_type": "stream",
     "text": [
      "67.4333099999996 TWh\n",
      "2.0232016201620233 Mln. ton\n"
     ]
    }
   ],
   "source": [
    "#Germany's steel production in 2020\n",
    "# projected_implementation = #projected % of hydrogen process implementation\n",
    "steel_prod_2020 = 35679000 #ton\n",
    "#convert power values to energy\n",
    "steel_energy_demand = steel_df['Total'] * 0.25 #kWh\n",
    "#calculate total energy demand\n",
    "steel_energy_demand_tot = sum(steel_energy_demand)\n",
    "#calculate specific energy demand per ton\n",
    "SEC_steel = steel_energy_demand_tot / steel_prod_2020 #electricity per unit production\n",
    "#construct production profile\n",
    "prod_profile_steel = steel_energy_demand / SEC_steel #ton\n",
    "#calculate H2 demand in MWh\n",
    "steel_H2_demand_MWh = prod_profile_steel * SEC_H2_Iron_steel #MWh\n",
    "#convert to kh of H2\n",
    "steel_H2_demand_kg = steel_H2_demand_MWh / energyContentH2_LHV\n",
    "# Add the steel_H2_demand_kg column to the new dataframe\n",
    "industrial_H2demand['Iron_steel'] = round(steel_H2_demand_kg, 2)\n",
    "total_demand_MWh = sum(steel_H2_demand_MWh/10e5)\n",
    "total_demand_kg = sum(steel_H2_demand_kg/10e8)\n",
    "\n",
    "print(total_demand_MWh, 'TWh')\n",
    "print(total_demand_kg, 'Mln. ton')\n"
   ]
  },
  {
   "cell_type": "code",
   "execution_count": 48,
   "metadata": {},
   "outputs": [],
   "source": [
    "# Export the new dataframe to a CSV file\n",
    "#make sure demand columns match with electrolyzer names (i.e. industry name)\n",
    "industrial_H2demand.to_csv('/Users/kanankhasmammadov/Desktop/Thesis - Electrolyzer market participation/flexABLE_w_electrolyzer/Data/industrial_demand.csv', index=True)\n"
   ]
  }
 ],
 "metadata": {
  "kernelspec": {
   "display_name": "base",
   "language": "python",
   "name": "python3"
  },
  "language_info": {
   "codemirror_mode": {
    "name": "ipython",
    "version": 3
   },
   "file_extension": ".py",
   "mimetype": "text/x-python",
   "name": "python",
   "nbconvert_exporter": "python",
   "pygments_lexer": "ipython3",
   "version": "3.11.7"
  }
 },
 "nbformat": 4,
 "nbformat_minor": 2
}
